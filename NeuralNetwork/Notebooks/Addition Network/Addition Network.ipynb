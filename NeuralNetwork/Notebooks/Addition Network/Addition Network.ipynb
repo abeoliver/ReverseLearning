{
 "cells": [
  {
   "cell_type": "code",
   "execution_count": 1,
   "metadata": {
    "collapsed": true
   },
   "outputs": [],
   "source": [
    "# Small Networks for Experiments\n",
    "# Abraham Oliver, 2016\n",
    "# ReverseLearning"
   ]
  },
  {
   "cell_type": "code",
   "execution_count": 2,
   "metadata": {
    "collapsed": false
   },
   "outputs": [],
   "source": [
    "# Imports\n",
    "import tensorflow as tf\n",
    "import numpy as np\n",
    "from random import random\n",
    "from random import randint\n",
    "from math import sin\n",
    "\n",
    "# Import python3's print as a function\n",
    "from __future__ import print_function\n",
    "\n",
    "# Numpy print options\n",
    "np.set_printoptions(precision = 3)"
   ]
  },
  {
   "cell_type": "code",
   "execution_count": 3,
   "metadata": {
    "collapsed": false
   },
   "outputs": [],
   "source": [
    "# Initiate Session\n",
    "sess = tf.InteractiveSession()"
   ]
  },
  {
   "cell_type": "code",
   "execution_count": 26,
   "metadata": {
    "collapsed": false,
    "scrolled": true
   },
   "outputs": [],
   "source": [
    "# Network to add three float inputs\n",
    "# 3 Input, 1 Output\n",
    "\n",
    "# Input\n",
    "inp = tf.placeholder(tf.float32, [None, 3])\n",
    "# Input Weights\n",
    "w = tf.Variable(tf.zeros([3, 1]))\n",
    "# Input Biases\n",
    "b = tf.Variable(tf.ones([1]))\n",
    "# Output\n",
    "out = tf.matmul(inp, w) + b\n",
    "# Label\n",
    "lbl = tf.placeholder(tf.float32, [None, 1])\n",
    "\n",
    "# Training with quadratic cost and gradient descent with learning rate .5\n",
    "#loss = tf.pow(tf.reduce_mean(lbl - out), 2)\n",
    "loss = tf.reduce_mean(-tf.reduce_sum(lbl * tf.log(out), reduction_indices = [1]))\n",
    "train_step = tf.train.ProximalGradientDescentOptimizer(0.01).minimize(loss)"
   ]
  },
  {
   "cell_type": "code",
   "execution_count": 20,
   "metadata": {
    "collapsed": true
   },
   "outputs": [],
   "source": [
    "# Input backprop model\n",
    "\n",
    "# Optimal Input variable (Only one item, unlike unknown above)\n",
    "optimal = tf.Variable(tf.zeros([1, 3]))\n",
    "# Predicted Output\n",
    "predicted = tf.nn.softmax(tf.matmul(optimal, w) + b)\n",
    "# Output to recreate\n",
    "output = tf.placeholder(tf.float32, [1])\n",
    "\n",
    "# Training functions\n",
    "optimal_train_loss = tf.reduce_mean(-tf.reduce_sum(output * tf.log(predicted), reduction_indices = [1]))\n",
    "optimal_train_step = tf.train.ProximalGradientDescentOptimizer(0.5).minimize(optimal_train_loss)"
   ]
  },
  {
   "cell_type": "code",
   "execution_count": 27,
   "metadata": {
    "collapsed": false
   },
   "outputs": [
    {
     "name": "stdout",
     "output_type": "stream",
     "text": [
      "Weights :: \n",
      "[[ 0.]\n",
      " [ 0.]\n",
      " [ 0.]]\n",
      "Biases :: [ 1.]\n",
      "Loss :: 0.0\n",
      "\n",
      "Weights :: \n",
      "[[ 18.101]\n",
      " [ 16.283]\n",
      " [ 11.175]]\n",
      "Biases :: [ 2.683]\n",
      "Loss :: nan\n",
      "\n"
     ]
    }
   ],
   "source": [
    "# Train and run normal network\n",
    "\n",
    "# Initialize variables\n",
    "sess.run(tf.initialize_all_variables())\n",
    "\n",
    "# Make data set of three inputs and their output\n",
    "def newSet(size, inputs = 3):\n",
    "    data = []\n",
    "    labels = []\n",
    "    for s in range(size):\n",
    "        newInputs = [random() * randint(-100, 100) for i in range(inputs)]\n",
    "        data.append(newInputs)\n",
    "        labels.append([sum(newInputs)])\n",
    "    return (data, labels)\n",
    "\n",
    "# Train normal model\n",
    "DEBUG = True\n",
    "for i in range(2001):\n",
    "    batch_inps, batch_outs = newSet(100)\n",
    "    if i % 2000 == 0 and DEBUG:\n",
    "        print(\"Weights :: \\n{0}\".format(w.eval()))\n",
    "        print(\"Biases :: {0}\".format(b.eval()))\n",
    "        print(\"Loss :: {0}\\n\".format(loss.eval(feed_dict={inp: batch_inps, lbl: batch_outs})))\n",
    "    sess.run(train_step, feed_dict={inp: batch_inps, lbl: batch_outs})\n",
    "\n",
    "def compute(INPUT):\n",
    "    return round(out.eval(feed_dict={inp: INPUT})[0])"
   ]
  },
  {
   "cell_type": "code",
   "execution_count": 28,
   "metadata": {
    "collapsed": false
   },
   "outputs": [
    {
     "name": "stdout",
     "output_type": "stream",
     "text": [
      "1 + 1 + 1 = 48.0\n",
      "10 + 10 + 10 = 458.0\n",
      "100 + 100 + 100 = 4558.0\n",
      "1000 + 1000 + 1000 = 45555.0\n",
      "10000 + 10000 + 10000 = 455524.0\n",
      "WEIGHTS :: \n",
      "[[ 18.099]\n",
      " [ 16.28 ]\n",
      " [ 11.173]]\n",
      "BIASES  :: [ 2.683]\n"
     ]
    }
   ],
   "source": [
    "print(\"1 + 1 + 1 = {0}\".format(compute([[1, 1, 1]])))\n",
    "print(\"10 + 10 + 10 = {0}\".format(compute([[10, 10, 10]])))\n",
    "print(\"100 + 100 + 100 = {0}\".format(compute([[100, 100, 100]])))\n",
    "print(\"1000 + 1000 + 1000 = {0}\".format(compute([[1000, 1000, 1000]])))\n",
    "print(\"10000 + 10000 + 10000 = {0}\".format(compute([[10000, 10000, 10000]])))\n",
    "print(\"WEIGHTS :: \\n{0}\".format(w.eval()))\n",
    "print(\"BIASES  :: {0}\".format(b.eval()))"
   ]
  },
  {
   "cell_type": "code",
   "execution_count": null,
   "metadata": {
    "collapsed": true
   },
   "outputs": [],
   "source": []
  }
 ],
 "metadata": {
  "kernelspec": {
   "display_name": "Python 2",
   "language": "python",
   "name": "python2"
  },
  "language_info": {
   "codemirror_mode": {
    "name": "ipython",
    "version": 2
   },
   "file_extension": ".py",
   "mimetype": "text/x-python",
   "name": "python",
   "nbconvert_exporter": "python",
   "pygments_lexer": "ipython2",
   "version": "2.7.12"
  }
 },
 "nbformat": 4,
 "nbformat_minor": 1
}

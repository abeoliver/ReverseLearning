{
 "cells": [
  {
   "cell_type": "code",
   "execution_count": 1,
   "metadata": {
    "collapsed": true
   },
   "outputs": [],
   "source": [
    "# Small, 2-Layer Network adding three numbers\n",
    "# Abraham Oliver, 2016\n",
    "# ReverseLearning"
   ]
  },
  {
   "cell_type": "code",
   "execution_count": 2,
   "metadata": {
    "collapsed": false
   },
   "outputs": [],
   "source": [
    "# Imports\n",
    "import tensorflow as tf\n",
    "import numpy as np\n",
    "from random import random\n",
    "from random import randint\n",
    "from math import sin\n",
    "\n",
    "# Import python3's print as a function\n",
    "from __future__ import print_function\n",
    "\n",
    "# Numpy print options\n",
    "np.set_printoptions(precision = 3, suppress = True)"
   ]
  },
  {
   "cell_type": "code",
   "execution_count": 3,
   "metadata": {
    "collapsed": false
   },
   "outputs": [],
   "source": [
    "# Initiate Session\n",
    "sess = tf.InteractiveSession()"
   ]
  },
  {
   "cell_type": "code",
   "execution_count": 4,
   "metadata": {
    "collapsed": false,
    "scrolled": true
   },
   "outputs": [],
   "source": [
    "# Network to add seven float inputs\n",
    "# 7 Input, 1 Output\n",
    "\n",
    "# Input\n",
    "inp = tf.placeholder(tf.float32, [None, 7])\n",
    "# Input Weights\n",
    "w = tf.Variable(tf.zeros([7, 1]))\n",
    "# Input Biases\n",
    "b = tf.Variable(tf.ones([1]))\n",
    "# Output\n",
    "out = tf.matmul(inp, w) + b\n",
    "# Label\n",
    "lbl = tf.placeholder(tf.float32, [None, 1])\n",
    "\n",
    "# Training with quadratic cost and gradient descent with learning rate .01\n",
    "loss = tf.pow(tf.reduce_mean(lbl - out), 2)\n",
    "train_step = tf.train.ProximalGradientDescentOptimizer(0.01).minimize(loss)"
   ]
  },
  {
   "cell_type": "code",
   "execution_count": 5,
   "metadata": {
    "collapsed": false
   },
   "outputs": [
    {
     "name": "stdout",
     "output_type": "stream",
     "text": [
      "Weights :: \n",
      "[[ 0.]\n",
      " [ 0.]\n",
      " [ 0.]\n",
      " [ 0.]\n",
      " [ 0.]\n",
      " [ 0.]\n",
      " [ 0.]]\n",
      "Biases :: [ 1.]\n",
      "Loss :: 36.1586914062\n",
      "\n",
      "Weights :: \n",
      "[[ 1.]\n",
      " [ 1.]\n",
      " [ 1.]\n",
      " [ 1.]\n",
      " [ 1.]\n",
      " [ 1.]\n",
      " [ 1.]]\n",
      "Biases :: [-0.]\n",
      "Loss :: 3.33930284683e-13\n",
      "\n",
      "1 + 1 + 1 + 1 + 1 + 1 + 1 = 7.0\n",
      "10 + 10 + 10 + 10 + 10 + 10 + 10 = 70.0\n"
     ]
    }
   ],
   "source": [
    "# Train and run normal network\n",
    "\n",
    "# Initialize variables\n",
    "sess.run(tf.initialize_all_variables())\n",
    "\n",
    "# Make data set of three inputs and their output\n",
    "def newSet(size, inputs = 7):\n",
    "    data = []\n",
    "    labels = []\n",
    "    for s in range(size):\n",
    "        newInputs = [random() * randint(-100, 100) for i in range(inputs)]\n",
    "        data.append(newInputs)\n",
    "        labels.append([sum(newInputs)])\n",
    "    return (data, labels)\n",
    "\n",
    "# Train normal model\n",
    "DEBUG = True\n",
    "for i in range(2001):\n",
    "    batch_inps, batch_outs = newSet(200)\n",
    "    if i % 2000 == 0 and DEBUG:\n",
    "        print(\"Weights :: \\n{0}\".format(w.eval()))\n",
    "        print(\"Biases :: {0}\".format(b.eval()))\n",
    "        print(\"Loss :: {0}\\n\".format(loss.eval(feed_dict={inp: batch_inps, lbl: batch_outs})))\n",
    "    sess.run(train_step, feed_dict={inp: batch_inps, lbl: batch_outs})\n",
    "\n",
    "def compute(INPUT):\n",
    "    return round(out.eval(feed_dict={inp: INPUT})[0])\n",
    "\n",
    "print(\"1 + 1 + 1 + 1 + 1 + 1 + 1 = {0}\".format(compute([[1, 1, 1, 1, 1, 1, 1]])))\n",
    "print(\"10 + 10 + 10 + 10 + 10 + 10 + 10 = {0}\".format(compute([[10, 10, 10, 10, 10, 10, 10]])))"
   ]
  },
  {
   "cell_type": "code",
   "execution_count": 6,
   "metadata": {
    "collapsed": false
   },
   "outputs": [],
   "source": [
    "# Save paramaters and close session\n",
    "saved_weights = w.eval()\n",
    "saved_biases = b.eval()\n",
    "sess.close()"
   ]
  },
  {
   "cell_type": "code",
   "execution_count": 7,
   "metadata": {
    "collapsed": true
   },
   "outputs": [],
   "source": [
    "#INPUT BACKPROP"
   ]
  },
  {
   "cell_type": "code",
   "execution_count": 8,
   "metadata": {
    "collapsed": true
   },
   "outputs": [],
   "source": [
    "# Start new session for input backprop\n",
    "sess = tf.InteractiveSession()"
   ]
  },
  {
   "cell_type": "code",
   "execution_count": 9,
   "metadata": {
    "collapsed": false
   },
   "outputs": [
    {
     "name": "stdout",
     "output_type": "stream",
     "text": [
      "INPUTS :: [[ 2.  2.  2.  2.  2.  2.  2.]]\n",
      "LOSS   :: 8.18545231596e-12\n"
     ]
    }
   ],
   "source": [
    "# 7 Free Inputs\n",
    "\n",
    "# Objective: Get seven inputs that sum to 'VAL'\n",
    "VAL = 14.0\n",
    "\n",
    "# Input\n",
    "optimal = tf.Variable(tf.zeros([1, 7]))\n",
    "# Input Weights\n",
    "w = tf.constant(saved_weights)\n",
    "# Input Biases\n",
    "b = tf.constant(saved_biases)\n",
    "# Output\n",
    "out = tf.matmul(optimal, w) + b\n",
    "# Label\n",
    "lbl = tf.constant([VAL])\n",
    "\n",
    "# Training with quadratic cost and gradient descent with learning rate .01\n",
    "loss = tf.pow(tf.reduce_mean(lbl - out), 2)\n",
    "train_step = tf.train.ProximalGradientDescentOptimizer(0.01).minimize(loss)\n",
    "\n",
    "# Initialize variables\n",
    "sess.run(tf.initialize_all_variables())\n",
    "\n",
    "# Train to find three inputs\n",
    "for i in range(400):\n",
    "    sess.run(train_step)\n",
    "\n",
    "print(\"INPUTS :: {0}\".format(optimal.eval()))\n",
    "print(\"LOSS   :: {0}\".format(loss.eval()))"
   ]
  },
  {
   "cell_type": "code",
   "execution_count": 10,
   "metadata": {
    "collapsed": false
   },
   "outputs": [
    {
     "name": "stdout",
     "output_type": "stream",
     "text": [
      "INPUTS :: ('[[ 2.4  2.4  2.4  2.4  2.4]]', 5.0, 3.0)\n",
      "LOSS   :: 1.45519152284e-11\n"
     ]
    }
   ],
   "source": [
    "# 5 Free, 2 Set Inputs\n",
    "\n",
    "# Objective: Get five inputs that sum to 'VAL' where one input is 'INP1' and another is 'INP2'\n",
    "VAL = 20.0\n",
    "INP1 = 5.0\n",
    "INP2 = 3.0\n",
    "\n",
    "# Inputs\n",
    "optimal = tf.Variable(tf.zeros([1, 5]))\n",
    "# Input Weights\n",
    "w = tf.constant(saved_weights)\n",
    "# Input Biases\n",
    "b = tf.constant(saved_biases)\n",
    "# Output\n",
    "out = tf.matmul(optimal, w[:5]) + tf.matmul([[INP1, INP2]], w[5:]) + b\n",
    "# Label\n",
    "lbl = tf.constant([VAL])\n",
    "\n",
    "# Training with quadratic cost and gradient descent with learning rate .01\n",
    "loss = tf.pow(tf.reduce_mean(lbl - out), 2)\n",
    "train_step = tf.train.ProximalGradientDescentOptimizer(0.01).minimize(loss)\n",
    "\n",
    "# Initialize variables\n",
    "sess.run(tf.initialize_all_variables())\n",
    "\n",
    "# Train to find three inputs\n",
    "for i in range(800):\n",
    "    sess.run(train_step)\n",
    "\n",
    "print(\"INPUTS :: {0}\".format((str(optimal.eval()), INP1, INP2)))\n",
    "print(\"LOSS   :: {0}\".format(loss.eval()))"
   ]
  },
  {
   "cell_type": "code",
   "execution_count": null,
   "metadata": {
    "collapsed": true
   },
   "outputs": [],
   "source": []
  }
 ],
 "metadata": {
  "kernelspec": {
   "display_name": "Python 2",
   "language": "python",
   "name": "python2"
  },
  "language_info": {
   "codemirror_mode": {
    "name": "ipython",
    "version": 2
   },
   "file_extension": ".py",
   "mimetype": "text/x-python",
   "name": "python",
   "nbconvert_exporter": "python",
   "pygments_lexer": "ipython2",
   "version": "2.7.12"
  }
 },
 "nbformat": 4,
 "nbformat_minor": 1
}

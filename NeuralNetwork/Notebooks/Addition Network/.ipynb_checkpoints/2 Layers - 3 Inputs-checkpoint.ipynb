{
 "cells": [
  {
   "cell_type": "code",
   "execution_count": 1,
   "metadata": {
    "collapsed": true
   },
   "outputs": [],
   "source": [
    "# Small, 2-Layer Network adding three numbers\n",
    "# Abraham Oliver, 2016\n",
    "# ReverseLearning"
   ]
  },
  {
   "cell_type": "code",
   "execution_count": 2,
   "metadata": {
    "collapsed": false
   },
   "outputs": [],
   "source": [
    "# Imports\n",
    "import tensorflow as tf\n",
    "import numpy as np\n",
    "from random import random\n",
    "from random import randint\n",
    "from math import sin\n",
    "\n",
    "# Import python3's print as a function\n",
    "from __future__ import print_function\n",
    "\n",
    "# Numpy print options\n",
    "np.set_printoptions(precision = 3, suppress = True)"
   ]
  },
  {
   "cell_type": "code",
   "execution_count": 3,
   "metadata": {
    "collapsed": false
   },
   "outputs": [],
   "source": [
    "# Initiate Session\n",
    "sess = tf.InteractiveSession()"
   ]
  },
  {
   "cell_type": "code",
   "execution_count": 4,
   "metadata": {
    "collapsed": false,
    "scrolled": true
   },
   "outputs": [],
   "source": [
    "# Network to add three float inputs\n",
    "# 3 Input, 1 Output\n",
    "\n",
    "# Input\n",
    "inp = tf.placeholder(tf.float32, [None, 3])\n",
    "# Input Weights\n",
    "w = tf.Variable(tf.zeros([3, 1]))\n",
    "# Input Biases\n",
    "b = tf.Variable(tf.ones([1]))\n",
    "# Output\n",
    "out = tf.matmul(inp, w) + b\n",
    "# Label\n",
    "lbl = tf.placeholder(tf.float32, [None, 1])\n",
    "\n",
    "# Training with quadratic cost and gradient descent with learning rate .01\n",
    "loss = tf.pow(tf.reduce_mean(lbl - out), 2)\n",
    "train_step = tf.train.ProximalGradientDescentOptimizer(0.01).minimize(loss)"
   ]
  },
  {
   "cell_type": "code",
   "execution_count": 5,
   "metadata": {
    "collapsed": false
   },
   "outputs": [
    {
     "name": "stdout",
     "output_type": "stream",
     "text": [
      "Weights :: \n",
      "[[ 0.]\n",
      " [ 0.]\n",
      " [ 0.]]\n",
      "Biases :: [ 1.]\n",
      "Loss :: 49.9662628174\n",
      "\n",
      "Weights :: \n",
      "[[ 1.]\n",
      " [ 1.]\n",
      " [ 1.]]\n",
      "Biases :: [ 0.]\n",
      "Loss :: 4.18582709997e-14\n",
      "\n"
     ]
    }
   ],
   "source": [
    "# Train and run normal network\n",
    "\n",
    "# Initialize variables\n",
    "sess.run(tf.initialize_all_variables())\n",
    "\n",
    "# Make data set of three inputs and their output\n",
    "def newSet(size, inputs = 3):\n",
    "    data = []\n",
    "    labels = []\n",
    "    for s in range(size):\n",
    "        newInputs = [random() * randint(-100, 100) for i in range(inputs)]\n",
    "        data.append(newInputs)\n",
    "        labels.append([sum(newInputs)])\n",
    "    return (data, labels)\n",
    "\n",
    "# Train normal model\n",
    "DEBUG = True\n",
    "for i in range(2001):\n",
    "    batch_inps, batch_outs = newSet(200)\n",
    "    if i % 2000 == 0 and DEBUG:\n",
    "        print(\"Weights :: \\n{0}\".format(w.eval()))\n",
    "        print(\"Biases :: {0}\".format(b.eval()))\n",
    "        print(\"Loss :: {0}\\n\".format(loss.eval(feed_dict={inp: batch_inps, lbl: batch_outs})))\n",
    "    sess.run(train_step, feed_dict={inp: batch_inps, lbl: batch_outs})\n",
    "\n",
    "def compute(INPUT):\n",
    "    return round(out.eval(feed_dict={inp: INPUT})[0])"
   ]
  },
  {
   "cell_type": "code",
   "execution_count": 6,
   "metadata": {
    "collapsed": false
   },
   "outputs": [
    {
     "name": "stdout",
     "output_type": "stream",
     "text": [
      "1 + 1 + 1 = 3.0\n",
      "10 + 10 + 10 = 30.0\n",
      "100 + 100 + 100 = 300.0\n",
      "1000 + 1000 + 1000 = 3000.0\n",
      "10000 + 10000 + 10000 = 30000.0\n",
      "100000 + 100000 + 100000 = 300000.0\n",
      "WEIGHTS :: \n",
      "[[ 1.]\n",
      " [ 1.]\n",
      " [ 1.]]\n",
      "BIASES  :: [ 0.]\n"
     ]
    }
   ],
   "source": [
    "print(\"1 + 1 + 1 = {0}\".format(compute([[1, 1, 1]])))\n",
    "print(\"10 + 10 + 10 = {0}\".format(compute([[10, 10, 10]])))\n",
    "print(\"100 + 100 + 100 = {0}\".format(compute([[100, 100, 100]])))\n",
    "print(\"1000 + 1000 + 1000 = {0}\".format(compute([[1000, 1000, 1000]])))\n",
    "print(\"10000 + 10000 + 10000 = {0}\".format(compute([[10000, 10000, 10000]])))\n",
    "print(\"100000 + 100000 + 100000 = {0}\".format(compute([[100000, 100000, 100000]])))\n",
    "print(\"WEIGHTS :: \\n{0}\".format(w.eval()))\n",
    "print(\"BIASES  :: {0}\".format(b.eval()))"
   ]
  },
  {
   "cell_type": "code",
   "execution_count": 7,
   "metadata": {
    "collapsed": false
   },
   "outputs": [],
   "source": [
    "# Save paramaters and close session\n",
    "saved_weights = w.eval()\n",
    "saved_biases = b.eval()\n",
    "sess.close()"
   ]
  },
  {
   "cell_type": "code",
   "execution_count": 8,
   "metadata": {
    "collapsed": true
   },
   "outputs": [],
   "source": [
    "#INPUT BACKPROP"
   ]
  },
  {
   "cell_type": "code",
   "execution_count": 9,
   "metadata": {
    "collapsed": true
   },
   "outputs": [],
   "source": [
    "# Start new session for input backprop\n",
    "sess = tf.InteractiveSession()"
   ]
  },
  {
   "cell_type": "code",
   "execution_count": 10,
   "metadata": {
    "collapsed": false
   },
   "outputs": [
    {
     "name": "stdout",
     "output_type": "stream",
     "text": [
      "INPUTS :: [[ 3.333  3.333  3.333]]\n",
      "LOSS   :: 3.27418092638e-11\n"
     ]
    }
   ],
   "source": [
    "# 3 Free Inputs\n",
    "\n",
    "# Objective: Get three inputs that sum to 'VAL'\n",
    "VAL = 10.0\n",
    "\n",
    "# Input\n",
    "optimal = tf.Variable(tf.zeros([1, 3]))\n",
    "# Input Weights\n",
    "w = tf.constant(saved_weights)\n",
    "# Input Biases\n",
    "b = tf.constant(saved_biases)\n",
    "# Output\n",
    "out = tf.matmul(optimal, w) + b\n",
    "# Label\n",
    "lbl = tf.constant([VAL])\n",
    "\n",
    "# Training with quadratic cost and gradient descent with learning rate .01\n",
    "loss = tf.pow(tf.reduce_mean(lbl - out), 2)\n",
    "train_step = tf.train.ProximalGradientDescentOptimizer(0.01).minimize(loss)\n",
    "\n",
    "# Initialize variables\n",
    "sess.run(tf.initialize_all_variables())\n",
    "\n",
    "# Train to find three inputs\n",
    "for i in range(400):\n",
    "    sess.run(train_step)\n",
    "\n",
    "print(\"INPUTS :: {0}\".format(optimal.eval()))\n",
    "print(\"LOSS   :: {0}\".format(loss.eval()))"
   ]
  },
  {
   "cell_type": "code",
   "execution_count": 11,
   "metadata": {
    "collapsed": false
   },
   "outputs": [
    {
     "name": "stdout",
     "output_type": "stream",
     "text": [
      "INPUTS :: (2.4999971, 2.4999971, 5.0)\n",
      "LOSS   :: 3.27418092638e-11\n"
     ]
    }
   ],
   "source": [
    "# 2 Free, 1 Set Inputs\n",
    "\n",
    "# Objective: Get three inputs that sum to 'VAL' where one input is 'INP'\n",
    "VAL = 10.0\n",
    "INP = 5.0\n",
    "\n",
    "# Inputs\n",
    "optimal1 = tf.Variable(0.0)\n",
    "optimal2 = tf.Variable(0.0)\n",
    "# Input Weights\n",
    "w = tf.constant(saved_weights)\n",
    "# Input Biases\n",
    "b = tf.constant(saved_biases)\n",
    "# Output\n",
    "out = tf.matmul([[optimal1, optimal2, INP]], w) + b\n",
    "# Label\n",
    "lbl = tf.constant([VAL])\n",
    "\n",
    "# Training with quadratic cost and gradient descent with learning rate .01\n",
    "loss = tf.pow(tf.reduce_mean(lbl - out), 2)\n",
    "train_step = tf.train.ProximalGradientDescentOptimizer(0.01).minimize(loss)\n",
    "\n",
    "# Initialize variables\n",
    "sess.run(tf.initialize_all_variables())\n",
    "\n",
    "# Train to find three inputs\n",
    "for i in range(800):\n",
    "    sess.run(train_step)\n",
    "\n",
    "print(\"INPUTS :: {0}\".format((optimal1.eval(), optimal2.eval(), INP)))\n",
    "print(\"LOSS   :: {0}\".format(loss.eval()))"
   ]
  },
  {
   "cell_type": "code",
   "execution_count": 12,
   "metadata": {
    "collapsed": false
   },
   "outputs": [
    {
     "name": "stdout",
     "output_type": "stream",
     "text": [
      "INPUTS :: (2.9999943, 5.0, 2.0)\n",
      "LOSS   :: 3.27418092638e-11\n"
     ]
    }
   ],
   "source": [
    "# 1 Free, 2 Set Inputs\n",
    "\n",
    "# Objective: Get three inputs that sum to 'VAL' where one input is 'INP1' and another is 'INP2'\n",
    "VAL = 10.0\n",
    "INP1 = 5.0\n",
    "INP2 = 2.0\n",
    "\n",
    "# Input\n",
    "optimal = tf.Variable(0.0)\n",
    "# Input Weights\n",
    "w = tf.constant(saved_weights)\n",
    "# Input Biases\n",
    "b = tf.constant(saved_biases)\n",
    "# Output\n",
    "out = tf.matmul([[optimal, INP1, INP2]], w) + b\n",
    "# Label\n",
    "lbl = tf.constant([VAL])\n",
    "\n",
    "# Training with quadratic cost and gradient descent with learning rate .01\n",
    "loss = tf.pow(tf.reduce_mean(lbl - out), 2)\n",
    "train_step = tf.train.ProximalGradientDescentOptimizer(0.01).minimize(loss)\n",
    "\n",
    "# Initialize variables\n",
    "sess.run(tf.initialize_all_variables())\n",
    "\n",
    "# Train to find three inputs\n",
    "for i in range(800):\n",
    "    sess.run(train_step)\n",
    "\n",
    "print(\"INPUTS :: {0}\".format((optimal.eval(), INP1, INP2)))\n",
    "print(\"LOSS   :: {0}\".format(loss.eval()))"
   ]
  },
  {
   "cell_type": "code",
   "execution_count": null,
   "metadata": {
    "collapsed": true
   },
   "outputs": [],
   "source": []
  }
 ],
 "metadata": {
  "kernelspec": {
   "display_name": "Python 2",
   "language": "python",
   "name": "python2"
  },
  "language_info": {
   "codemirror_mode": {
    "name": "ipython",
    "version": 2
   },
   "file_extension": ".py",
   "mimetype": "text/x-python",
   "name": "python",
   "nbconvert_exporter": "python",
   "pygments_lexer": "ipython2",
   "version": "2.7.12"
  }
 },
 "nbformat": 4,
 "nbformat_minor": 1
}

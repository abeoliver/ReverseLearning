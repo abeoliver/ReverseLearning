{
 "cells": [
  {
   "cell_type": "code",
   "execution_count": 1,
   "metadata": {
    "collapsed": true
   },
   "outputs": [],
   "source": [
    "# 3-Layer Network adding five numbers\n",
    "# Abraham Oliver, 2016\n",
    "# ReverseLearning"
   ]
  },
  {
   "cell_type": "code",
   "execution_count": 2,
   "metadata": {
    "collapsed": false
   },
   "outputs": [],
   "source": [
    "# Imports\n",
    "import tensorflow as tf\n",
    "import numpy as np\n",
    "from random import random\n",
    "from random import randint\n",
    "from math import sin\n",
    "\n",
    "# Import python3's print as a function\n",
    "from __future__ import print_function\n",
    "\n",
    "# Numpy print options\n",
    "np.set_printoptions(precision = 3, suppress = True)"
   ]
  },
  {
   "cell_type": "code",
   "execution_count": 3,
   "metadata": {
    "collapsed": false
   },
   "outputs": [],
   "source": [
    "# Initiate Session\n",
    "sess = tf.InteractiveSession()"
   ]
  },
  {
   "cell_type": "code",
   "execution_count": 4,
   "metadata": {
    "collapsed": false,
    "scrolled": true
   },
   "outputs": [],
   "source": [
    "# Network to add five float inputs\n",
    "# 5 Input, 3 Hidden, 1 Output\n",
    "\n",
    "# Input\n",
    "inp = tf.placeholder(tf.float32, [None, 5])\n",
    "# Input Weights\n",
    "w1 = tf.Variable(tf.zeros([5, 3]))\n",
    "# Input Biases\n",
    "b1 = tf.Variable(tf.ones([3]))\n",
    "# Input's Output, Hidden's Input\n",
    "out1 = tf.matmul(inp, w1) + b1\n",
    "\n",
    "# Hidden weights\n",
    "w2 = tf.Variable(tf.zeros([3, 1]))\n",
    "# Hidden biases\n",
    "b2 = tf.Variable(tf.ones([1]))\n",
    "# Output\n",
    "out = tf.matmul(out1, w2) + b2\n",
    "\n",
    "# Label\n",
    "lbl = tf.placeholder(tf.float32, [None, 1])\n",
    "\n",
    "# Training with quadratic cost and gradient descent with learning rate .01\n",
    "loss = tf.pow(tf.reduce_mean(lbl - out), 2)\n",
    "train_step = tf.train.ProximalGradientDescentOptimizer(0.01).minimize(loss)"
   ]
  },
  {
   "cell_type": "code",
   "execution_count": 5,
   "metadata": {
    "collapsed": false
   },
   "outputs": [
    {
     "name": "stdout",
     "output_type": "stream",
     "text": [
      "Weights1 :: \n",
      "[[ 0.  0.  0.]\n",
      " [ 0.  0.  0.]\n",
      " [ 0.  0.  0.]\n",
      " [ 0.  0.  0.]\n",
      " [ 0.  0.  0.]]\n",
      "Biases1 :: [ 1.  1.  1.]\n",
      "Weights2 :: \n",
      "[[ 0.]\n",
      " [ 0.]\n",
      " [ 0.]]\n",
      "Biases2 :: [ 1.]\n",
      "Loss :: 2.29511260986\n",
      "\n",
      "Weights1 :: \n",
      "[[-0.516 -0.516 -0.516]\n",
      " [-0.516 -0.516 -0.516]\n",
      " [-0.516 -0.516 -0.516]\n",
      " [-0.516 -0.516 -0.516]\n",
      " [-0.516 -0.516 -0.516]]\n",
      "Biases1 :: [ 0.626  0.626  0.626]\n",
      "Weights2 :: \n",
      "[[-0.647]\n",
      " [-0.647]\n",
      " [-0.647]]\n",
      "Biases2 :: [ 1.215]\n",
      "Loss :: 6.87492814413e-12\n",
      "\n"
     ]
    }
   ],
   "source": [
    "# Train and run normal network\n",
    "\n",
    "# Initialize variables\n",
    "sess.run(tf.initialize_all_variables())\n",
    "\n",
    "# Make data set of three inputs and their output\n",
    "def newSet(size, inputs = 5):\n",
    "    data = []\n",
    "    labels = []\n",
    "    for s in range(size):\n",
    "        newInputs = [random() * randint(-100, 100) for i in range(inputs)]\n",
    "        data.append(newInputs)\n",
    "        labels.append([sum(newInputs)])\n",
    "    return (data, labels)\n",
    "\n",
    "# Train normal model\n",
    "DEBUG = True\n",
    "for i in range(2001):\n",
    "    batch_inps, batch_outs = newSet(200)\n",
    "    if i % 2000 == 0 and DEBUG:\n",
    "        print(\"Weights1 :: \\n{0}\".format(w1.eval()))\n",
    "        print(\"Biases1 :: {0}\".format(b1.eval()))\n",
    "        print(\"Weights2 :: \\n{0}\".format(w2.eval()))\n",
    "        print(\"Biases2 :: {0}\".format(b2.eval()))\n",
    "        print(\"Loss :: {0}\\n\".format(loss.eval(feed_dict={inp: batch_inps, lbl: batch_outs})))\n",
    "    sess.run(train_step, feed_dict={inp: batch_inps, lbl: batch_outs})\n",
    "\n",
    "def compute(INPUT):\n",
    "    return round(out.eval(feed_dict={inp: INPUT})[0])"
   ]
  },
  {
   "cell_type": "code",
   "execution_count": 6,
   "metadata": {
    "collapsed": false
   },
   "outputs": [
    {
     "name": "stdout",
     "output_type": "stream",
     "text": [
      "1 + 1 + 1 + 1 + 1 = 5.0\n",
      "10 + 10 + 10 + 10 + 10 = 50.0\n",
      "100 + 100 + 100 + 100 + 100 = 500.0\n",
      "1000 + 1000 + 1000 + 1000 + 1000 = 5000.0\n",
      "10000 + 10000 + 10000 + 10000 + 10000 = 50000.0\n"
     ]
    }
   ],
   "source": [
    "def testTens(size, depth, fromDepth = 0):\n",
    "    for i in range(fromDepth, depth):\n",
    "        q = pow(10, i)\n",
    "        inp = [[q for i in range(size)]]\n",
    "        toPrint = \"\"\n",
    "        for c in range(len(inp[0])):\n",
    "            toPrint += str(inp[0][c])\n",
    "            if c != len(inp[0]) - 1:\n",
    "                toPrint += \" + \"\n",
    "            else:\n",
    "                toPrint += \" = \"\n",
    "        toPrint += str(compute(inp))\n",
    "        print(toPrint)\n",
    "testTens(5, 5)"
   ]
  },
  {
   "cell_type": "code",
   "execution_count": 7,
   "metadata": {
    "collapsed": false
   },
   "outputs": [],
   "source": [
    "# Save paramaters and close session\n",
    "saved_weights1 = w1.eval()\n",
    "saved_weights2 = w2.eval()\n",
    "saved_biases1 = b1.eval()\n",
    "saved_biases2 = b2.eval()\n",
    "sess.close()"
   ]
  },
  {
   "cell_type": "code",
   "execution_count": 8,
   "metadata": {
    "collapsed": true
   },
   "outputs": [],
   "source": [
    "#INPUT BACKPROP"
   ]
  },
  {
   "cell_type": "code",
   "execution_count": 9,
   "metadata": {
    "collapsed": true
   },
   "outputs": [],
   "source": [
    "# Start new session for input backprop\n",
    "sess = tf.InteractiveSession()"
   ]
  },
  {
   "cell_type": "code",
   "execution_count": 10,
   "metadata": {
    "collapsed": false
   },
   "outputs": [
    {
     "name": "stdout",
     "output_type": "stream",
     "text": [
      "INPUTS :: [[ 2.8  2.8  2.8  2.8  2.8]]\n",
      "LOSS   :: 1.45519152284e-11\n"
     ]
    }
   ],
   "source": [
    "# 5 Free Inputs\n",
    "\n",
    "# Objective: Get five inputs that sum to 'VAL'\n",
    "VAL = 14.0\n",
    "\n",
    "# Input\n",
    "optimal = tf.Variable(tf.zeros([1, 5]))\n",
    "# Input Weights\n",
    "w1 = tf.constant(saved_weights1)\n",
    "# Input Biases\n",
    "b1 = tf.constant(saved_biases1)\n",
    "# Input's Output\n",
    "out1 = tf.matmul(optimal, w1) + b1\n",
    "\n",
    "# Hidden Weights\n",
    "w2 = tf.constant(saved_weights2)\n",
    "# Hidden Biases\n",
    "b2 = tf.constant(saved_biases2)\n",
    "# Ouput\n",
    "out = tf.matmul(out1, w2) + b2\n",
    "\n",
    "# Label\n",
    "lbl = tf.constant([VAL])\n",
    "\n",
    "# Training with quadratic cost and gradient descent with learning rate .01\n",
    "loss = tf.pow(tf.reduce_mean(lbl - out), 2)\n",
    "train_step = tf.train.ProximalGradientDescentOptimizer(0.01).minimize(loss)\n",
    "\n",
    "# Initialize variables\n",
    "sess.run(tf.initialize_all_variables())\n",
    "\n",
    "# Train to find three inputs\n",
    "for i in range(400):\n",
    "    sess.run(train_step)\n",
    "\n",
    "print(\"INPUTS :: {0}\".format(optimal.eval()))\n",
    "print(\"LOSS   :: {0}\".format(loss.eval()))"
   ]
  },
  {
   "cell_type": "code",
   "execution_count": 11,
   "metadata": {
    "collapsed": false
   },
   "outputs": [
    {
     "name": "stdout",
     "output_type": "stream",
     "text": [
      "INPUTS :: ('[[ 4.  4.  4.]]', 5.0, 3.0)\n",
      "LOSS   :: 9.09494701773e-11\n"
     ]
    }
   ],
   "source": [
    "# 3 Free, 2 Set Inputs\n",
    "\n",
    "# Objective: Get five inputs that sum to 'VAL' where one input is 'INP1' and another is 'INP2'\n",
    "VAL = 20.0\n",
    "INP1 = 5.0\n",
    "INP2 = 3.0\n",
    "\n",
    "# Inputs\n",
    "optimal = tf.Variable(tf.zeros([1, 3]))\n",
    "# Input Weights\n",
    "w1 = tf.constant(saved_weights1)\n",
    "# Input Biases\n",
    "b1 = tf.constant(saved_biases1)\n",
    "# Input's Output\n",
    "out1 = tf.matmul(optimal, w1[:3]) + tf.matmul([[INP1, INP2]], w1[3:]) + b1\n",
    "\n",
    "# Hidden weights\n",
    "w2 = tf.constant(saved_weights2)\n",
    "# Input Biases\n",
    "b2 = tf.constant(saved_biases2)\n",
    "# Input's Output\n",
    "out = tf.matmul(out1, w2) + b2\n",
    "\n",
    "# Label\n",
    "lbl = tf.constant([VAL])\n",
    "\n",
    "# Training with quadratic cost and gradient descent with learning rate .01\n",
    "loss = tf.pow(tf.reduce_mean(lbl - out), 2)\n",
    "train_step = tf.train.ProximalGradientDescentOptimizer(0.01).minimize(loss)\n",
    "\n",
    "# Initialize variables\n",
    "sess.run(tf.initialize_all_variables())\n",
    "\n",
    "# Train to find three inputs\n",
    "for i in range(800):\n",
    "    sess.run(train_step)\n",
    "\n",
    "print(\"INPUTS :: {0}\".format((str(optimal.eval()), INP1, INP2)))\n",
    "print(\"LOSS   :: {0}\".format(loss.eval()))"
   ]
  },
  {
   "cell_type": "code",
   "execution_count": null,
   "metadata": {
    "collapsed": true
   },
   "outputs": [],
   "source": []
  }
 ],
 "metadata": {
  "kernelspec": {
   "display_name": "Python 2",
   "language": "python",
   "name": "python2"
  },
  "language_info": {
   "codemirror_mode": {
    "name": "ipython",
    "version": 2
   },
   "file_extension": ".py",
   "mimetype": "text/x-python",
   "name": "python",
   "nbconvert_exporter": "python",
   "pygments_lexer": "ipython2",
   "version": "2.7.12"
  }
 },
 "nbformat": 4,
 "nbformat_minor": 1
}

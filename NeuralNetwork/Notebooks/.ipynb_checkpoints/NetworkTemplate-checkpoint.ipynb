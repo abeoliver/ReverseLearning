{
 "cells": [
  {
   "cell_type": "code",
   "execution_count": 1,
   "metadata": {
    "collapsed": true
   },
   "outputs": [],
   "source": [
    "# Neural Network Template for ReverseLearning with Input Backprop\n",
    "# By Abraham Oliver, 2016"
   ]
  },
  {
   "cell_type": "code",
   "execution_count": 2,
   "metadata": {
    "collapsed": false
   },
   "outputs": [],
   "source": [
    "import tensorflow as tf\n",
    "import numpy as np\n",
    "\n",
    "# Import python3's print as a function\n",
    "from __future__ import print_function"
   ]
  },
  {
   "cell_type": "code",
   "execution_count": 3,
   "metadata": {
    "collapsed": true
   },
   "outputs": [],
   "source": [
    "\"\"\"\n",
    "Import data and prepare for use\n",
    "\n",
    "ARGUMENTS:\n",
    "    size - int - number of data in set\n",
    "\n",
    "RETURN:\n",
    "    ('LIST of DATA each in own list', 'LIST of LABELS each in own list of size [1]')\n",
    "\"\"\"\n",
    "from random import randint, random\n",
    "def newSet(size):\n",
    "    \"\"\"EXAMPLE\"\"\"\n",
    "    data = []\n",
    "    labels = []\n",
    "    for s in range(size):\n",
    "        newInputs = [random() * randint(-100, 100) for i in range(5)]\n",
    "        data.append(newInputs)\n",
    "        labels.append([sum(newInputs)])\n",
    "    return (data, labels)"
   ]
  },
  {
   "cell_type": "code",
   "execution_count": 4,
   "metadata": {
    "collapsed": false
   },
   "outputs": [],
   "source": [
    "# Start an interactive session\n",
    "sess = tf.InteractiveSession()"
   ]
  },
  {
   "cell_type": "code",
   "execution_count": 5,
   "metadata": {
    "collapsed": true
   },
   "outputs": [],
   "source": [
    "# PARAMETERS (DESIGN AT WILL)\n",
    "\n",
    "# Number of neurons in each layer where LAYERS[0] is the input and LAYERS[-1] is the output\n",
    "LAYERS = [5, 3, 1]\n",
    "\n",
    "# HYPERPARAMETERS\n",
    "LEARN_RATE = .01\n",
    "EPOCHS = 2001\n",
    "BATCH_SIZE = 200\n",
    "\n",
    "# SETTINGS\n",
    "DEBUG = False"
   ]
  },
  {
   "cell_type": "code",
   "execution_count": 6,
   "metadata": {
    "collapsed": false
   },
   "outputs": [],
   "source": [
    "# Define Model Parameters (CUSTOMIZATION NOT NEEDED)\n",
    "\n",
    "# Input\n",
    "x = tf.placeholder(tf.float32, [None, LAYERS[0]], name=\"x\")\n",
    "# Weights\n",
    "w = [tf.Variable(tf.zeros([LAYERS[n], LAYERS[n + 1]]), name=\"w{0}\".format(n)) for n in range(len(LAYERS) - 1)]\n",
    "# Biases\n",
    "b = [tf.Variable(tf.ones([LAYERS[n + 1]]), name=\"b{0}\".format(n)) for n in range(len(LAYERS) - 1)]\n",
    "# Ouput\n",
    "def calc(inp, n = 0):\n",
    "    if n == len(LAYERS) - 2:\n",
    "        return tf.matmul(inp, w[n]) + b[n]\n",
    "    return calc(tf.matmul(inp, w[n]) + b[n], n + 1)\n",
    "y = calc(x)\n",
    "# Label\n",
    "y_ = tf.placeholder(tf.float32, [None, LAYERS[-1]], name=\"y_\")\n",
    "\n",
    "# Loss function\n",
    "loss = tf.pow(tf.reduce_mean(y_ - y), 2)\n",
    "train_step = tf.train.ProximalGradientDescentOptimizer(LEARN_RATE).minimize(loss)"
   ]
  },
  {
   "cell_type": "code",
   "execution_count": 7,
   "metadata": {
    "collapsed": false
   },
   "outputs": [
    {
     "name": "stdout",
     "output_type": "stream",
     "text": [
      "TRAINING *  *  *  *  *  *  *  *  *  *  * \n",
      "TRAINING COMPLETE\n"
     ]
    }
   ],
   "source": [
    "# Train model (CUSTOMIZATION NOT NEEDED)\n",
    "\n",
    "# Initialize variables\n",
    "sess.run(tf.initialize_all_variables())\n",
    "\n",
    "# Status bar\n",
    "STATUS_INTERVAL = EPOCHS / 10\n",
    "\n",
    "# Train normal model\n",
    "print(\"TRAINING\", end=\"\")\n",
    "for i in range(EPOCHS):\n",
    "    # Get data\n",
    "    batch_inps, batch_outs = newSet(BATCH_SIZE)\n",
    "    \n",
    "    # Debug printing\n",
    "    if i % 2000 == 0 and DEBUG:\n",
    "        print(\"Weights ::\")\n",
    "        for i in w:\n",
    "            print(i.eval())\n",
    "        print(\"Biases ::\")\n",
    "        for i in b:\n",
    "            print(i.eval())\n",
    "        print(\"Loss :: {0}\\n\\n\".format(loss.eval(feed_dict={x: batch_inps, y_: batch_outs})))\n",
    "        \n",
    "    # Run train step\n",
    "    sess.run(train_step, feed_dict={x: batch_inps, y_: batch_outs})\n",
    "    \n",
    "    # Print status bar\n",
    "    if i % STATUS_INTERVAL == 0: print(\" * \", end=\"\")\n",
    "print(\"\\nTRAINING COMPLETE\")"
   ]
  },
  {
   "cell_type": "code",
   "execution_count": 8,
   "metadata": {
    "collapsed": false
   },
   "outputs": [
    {
     "name": "stdout",
     "output_type": "stream",
     "text": [
      "EXAMPLE :: 1 + 1 + 1 + 1 + 1 ~= 5.00000047684\n"
     ]
    }
   ],
   "source": [
    "# Use trained network\n",
    "def predict(INPUT, full = False):\n",
    "    \"\"\"\n",
    "    Get network prediction\n",
    "    \n",
    "    ARGUMENTS\n",
    "        INPUT - input vector. FORM: [[x0, x1, x2, ..., x(n-1)]] for n inputs\n",
    "        full - bool - Return full vector output if true and only argmax if false\n",
    "        \n",
    "    EDIT LINE 2 TO CUSTOMIZE PREDICTOR\n",
    "    \"\"\"\n",
    "    if not full:\n",
    "        return y.eval(feed_dict={x: INPUT})[0][0]\n",
    "    else:\n",
    "        return y.eval(feed_dict={x: INPUT})\n",
    "\n",
    "print(\"EXAMPLE :: 1 + 1 + 1 + 1 + 1 ~= {0}\".format(predict([[1, 1, 1, 1, 1]])))"
   ]
  },
  {
   "cell_type": "code",
   "execution_count": null,
   "metadata": {
    "collapsed": true
   },
   "outputs": [],
   "source": []
  }
 ],
 "metadata": {
  "kernelspec": {
   "display_name": "Python 2",
   "language": "python",
   "name": "python2"
  },
  "language_info": {
   "codemirror_mode": {
    "name": "ipython",
    "version": 2
   },
   "file_extension": ".py",
   "mimetype": "text/x-python",
   "name": "python",
   "nbconvert_exporter": "python",
   "pygments_lexer": "ipython2",
   "version": "2.7.12"
  }
 },
 "nbformat": 4,
 "nbformat_minor": 1
}

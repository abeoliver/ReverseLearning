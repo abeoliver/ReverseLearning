{
 "cells": [
  {
   "cell_type": "code",
   "execution_count": 1,
   "metadata": {
    "collapsed": true
   },
   "outputs": [],
   "source": [
    "# Neural Network Template for ReverseLearning with Input Backprop\n",
    "# By Abraham Oliver, 2016"
   ]
  },
  {
   "cell_type": "code",
   "execution_count": 8,
   "metadata": {
    "collapsed": true
   },
   "outputs": [],
   "source": [
    "import tensorflow as tf\n",
    "import numpy as np\n",
    "\n",
    "# Import python3's print as a function\n",
    "from __future__ import print_function"
   ]
  },
  {
   "cell_type": "code",
   "execution_count": null,
   "metadata": {
    "collapsed": true
   },
   "outputs": [],
   "source": [
    "# Import data and prepare for use\n",
    "def newSet(size, inputs = 3):\n",
    "    \"\"\"EXAMPLE\"\"\"\n",
    "    data = []\n",
    "    labels = []\n",
    "    for s in range(size):\n",
    "        newInputs = [random() * randint(-100, 100) for i in range(inputs)]\n",
    "        data.append(newInputs)\n",
    "        labels.append([sum(newInputs)])\n",
    "    return (data, labels)"
   ]
  },
  {
   "cell_type": "code",
   "execution_count": 3,
   "metadata": {
    "collapsed": false
   },
   "outputs": [],
   "source": [
    "# Start an interactive session\n",
    "sess = tf.InteractiveSession()"
   ]
  },
  {
   "cell_type": "code",
   "execution_count": 9,
   "metadata": {
    "collapsed": true
   },
   "outputs": [],
   "source": [
    "# PARAMATERS\n",
    "INPUT_SIZE = 10\n",
    "OUTPUT_SIZE = 1\n",
    "\n",
    "LEARN_RATE = .01\n",
    "EPOCHS = 2001\n",
    "BATCH_SIZE = 200\n",
    "\n",
    "DEBUG = True"
   ]
  },
  {
   "cell_type": "code",
   "execution_count": 7,
   "metadata": {
    "collapsed": false
   },
   "outputs": [],
   "source": [
    "# Define Model Parameters\n",
    "\n",
    "# Input\n",
    "x = tf.placeholder(tf.float32, [None, INPUT_SIZE])\n",
    "# Weights\n",
    "w = [tf.Variable(tf.zeros([10, 5])), tf.Variable(tf.zeros([5, 1]))]\n",
    "# Biases\n",
    "b = [tf.Variable(tf.ones([5])), tf.Variable(tf.ones([1]))]\n",
    "# Ouput\n",
    "y = tf.matmul(tf.matmul(x, w[0]) + b[0], w[1]) + b[1]\n",
    "# Label\n",
    "y_ = tf.placeholder(tf.float32, [None, OUTPUT_SIZE])\n",
    "\n",
    "# Loss function\n",
    "loss = tf.pow(tf.reduce_mean(y_ - y), 2)\n",
    "train_step = tf.train.ProximalGradientDescentOptimizer(LEARN_RATE).minimize(loss)"
   ]
  },
  {
   "cell_type": "code",
   "execution_count": null,
   "metadata": {
    "collapsed": true
   },
   "outputs": [],
   "source": [
    "# Train model\n",
    "\n",
    "# Initialize variables\n",
    "sess.run(tf.initialize_all_variables())\n",
    "\n",
    "# Train normal model\n",
    "for i in range(2001):\n",
    "    batch_inps, batch_outs = newSet(200)\n",
    "    if i % 2000 == 0 and DEBUG:\n",
    "        print(\"Weights :: \\n{0}\".format(w.eval()))\n",
    "        print(\"Biases :: {0}\".format(b.eval()))\n",
    "        print(\"Loss :: {0}\\n\".format(loss.eval(feed_dict={inp: batch_inps, lbl: batch_outs})))\n",
    "    sess.run(train_step, feed_dict={inp: batch_inps, lbl: batch_outs})\n",
    "\n",
    "def compute(INPUT):\n",
    "    return round(out.eval(feed_dict={inp: INPUT})[0])\n"
   ]
  }
 ],
 "metadata": {
  "kernelspec": {
   "display_name": "Python 2",
   "language": "python",
   "name": "python2"
  },
  "language_info": {
   "codemirror_mode": {
    "name": "ipython",
    "version": 2
   },
   "file_extension": ".py",
   "mimetype": "text/x-python",
   "name": "python",
   "nbconvert_exporter": "python",
   "pygments_lexer": "ipython2",
   "version": "2.7.12"
  }
 },
 "nbformat": 4,
 "nbformat_minor": 1
}

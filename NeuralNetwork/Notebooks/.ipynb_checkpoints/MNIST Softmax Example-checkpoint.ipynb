{
 "cells": [
  {
   "cell_type": "code",
   "execution_count": 1,
   "metadata": {
    "collapsed": true
   },
   "outputs": [],
   "source": [
    "# MNIST Backprop To Find Optimal Input\n",
    "# Abraham Oliver, 2016\n",
    "\n",
    "# Plain python version in ../Tensorflow/mnist_backprop_inputs.py\n",
    "# General structure from tensorflow.org\n",
    "# Matplotlib help from http://tneal.org/post/tensorflow-ipython/TensorFlowMNIST/"
   ]
  },
  {
   "cell_type": "code",
   "execution_count": 2,
   "metadata": {
    "collapsed": true
   },
   "outputs": [],
   "source": [
    "# Import Tensorflow\n",
    "import tensorflow as tf"
   ]
  },
  {
   "cell_type": "code",
   "execution_count": 3,
   "metadata": {
    "collapsed": true
   },
   "outputs": [],
   "source": [
    "# Initiate Session\n",
    "sess = tf.InteractiveSession()"
   ]
  },
  {
   "cell_type": "code",
   "execution_count": 4,
   "metadata": {
    "collapsed": true
   },
   "outputs": [],
   "source": [
    "# Retrieve dataset\n",
    "from tensorflow.examples.tutorials.mnist import input_data"
   ]
  },
  {
   "cell_type": "code",
   "execution_count": 5,
   "metadata": {
    "collapsed": false
   },
   "outputs": [
    {
     "name": "stdout",
     "output_type": "stream",
     "text": [
      "Extracting ../../DataSets/MNIST/train-images-idx3-ubyte.gz\n",
      "Extracting ../../DataSets/MNIST/train-labels-idx1-ubyte.gz\n",
      "Extracting ../../DataSets/MNIST/t10k-images-idx3-ubyte.gz\n",
      "Extracting ../../DataSets/MNIST/t10k-labels-idx1-ubyte.gz\n"
     ]
    }
   ],
   "source": [
    "# Import MNIST dataset\n",
    "mnist = input_data.read_data_sets(\"../../DataSets/MNIST/\", one_hot=True)"
   ]
  },
  {
   "cell_type": "code",
   "execution_count": 6,
   "metadata": {
    "collapsed": true
   },
   "outputs": [],
   "source": [
    "# Import python3's print as a function\n",
    "from __future__ import print_function"
   ]
  },
  {
   "cell_type": "code",
   "execution_count": 7,
   "metadata": {
    "collapsed": true
   },
   "outputs": [],
   "source": [
    "# Import numpy\n",
    "import numpy as np"
   ]
  },
  {
   "cell_type": "code",
   "execution_count": 8,
   "metadata": {
    "collapsed": false
   },
   "outputs": [
    {
     "data": {
      "image/png": "[encoded data removed]",
      "text/plain": [
       "<matplotlib.figure.Figure at 0x7f22992966d0>"
      ]
     },
     "metadata": {},
     "output_type": "display_data"
    }
   ],
   "source": [
    "# Import tools for image visualization\n",
    "import matplotlib.pyplot as plt\n",
    "import matplotlib.cm as cm\n",
    "%matplotlib inline\n",
    "\n",
    "def showImage(img):\n",
    "    \"\"\"Display image of recovered digit\"\"\"\n",
    "    tmp = img.reshape((28,28))\n",
    "    plt.imshow(tmp, cmap = cm.Greys)\n",
    "    plt.show()\n",
    "\n",
    "# Test showImage on an image from the dataset\n",
    "showImage(mnist.train.images[24601])"
   ]
  },
  {
   "cell_type": "code",
   "execution_count": 9,
   "metadata": {
    "collapsed": false
   },
   "outputs": [],
   "source": [
    "# Design / Train / Run Model\n",
    "# Design model variables\n",
    "# Input\n",
    "x = tf.placeholder(tf.float32, [None, 784])\n",
    "# Weights\n",
    "W = tf.Variable(tf.zeros([784, 10]))\n",
    "# Biases\n",
    "b = tf.Variable(tf.zeros([10]))\n",
    "# Predicted Output\n",
    "y = tf.nn.softmax(tf.matmul(x, W) + b)\n",
    "# Correct Outputs\n",
    "y_ = tf.placeholder(tf.float32, [None, 10])"
   ]
  },
  {
   "cell_type": "code",
   "execution_count": 24,
   "metadata": {
    "collapsed": true
   },
   "outputs": [],
   "source": [
    "# Training with cross-entropy cost and gradient descent with learning rate .5\n",
    "loss = tf.reduce_mean(-tf.reduce_sum(y_ * tf.log(y), reduction_indices=[1]))\n",
    "train_step = tf.train.ProximalGradientDescentOptimizer(0.5).minimize(loss)"
   ]
  },
  {
   "cell_type": "code",
   "execution_count": 21,
   "metadata": {
    "collapsed": true
   },
   "outputs": [],
   "source": [
    "# Initialize variables\n",
    "sess.run(tf.initialize_all_variables())"
   ]
  },
  {
   "cell_type": "code",
   "execution_count": 27,
   "metadata": {
    "collapsed": true
   },
   "outputs": [],
   "source": [
    "# Train over data\n",
    "for i in range(200):\n",
    "    # Labels are the inputs and images are the outputs\n",
    "    batch_xs, batch_ys = mnist.train.next_batch(100)\n",
    "    sess.run(train_step, feed_dict={x: batch_xs, y_: batch_ys})"
   ]
  },
  {
   "cell_type": "code",
   "execution_count": 28,
   "metadata": {
    "collapsed": false
   },
   "outputs": [
    {
     "name": "stdout",
     "output_type": "stream",
     "text": [
      "9.8045e-06\n",
      "[-0.09069925  0.11032057 -0.00924804 -0.07769097  0.02738567  0.51588213\n",
      "  0.00242711  0.17428882 -0.5820443  -0.07062158]\n"
     ]
    }
   ],
   "source": [
    "print(W.eval().sum())\n",
    "print(b.eval())"
   ]
  },
  {
   "cell_type": "code",
   "execution_count": 14,
   "metadata": {
    "collapsed": false
   },
   "outputs": [
    {
     "data": {
      "text/plain": [
       "'\\n# Optimal Input variable (Only one item, unlike unknown above)\\noptimal = tf.Variable(tf.zeros([1, 784]))\\n# Predicted Output\\npredicted = tf.nn.softmax(tf.matmul(optimal, W) + b)\\n# Output to recreate\\noutput = tf.placeholder(tf.float32, [None, 10])\\n\\n# Training functions\\nloss = tf.reduce_mean(-tf.reduce_sum(output * tf.log(predicted), reduction_indices = [1]))\\ntrain_step = tf.train.ProximalGradientDescentOptimizer(0.5).minimize(loss, var_list = [optimal])\\n\\n# Initialize variables\\nsess.run(tf.initialize_all_variables())\\n\\n# Train over data\\nfor i in range(1000):\\n    # Create feed dict of same training value\\n    feed = np.array([mnist.train.labels[24601] for i in range(100)])\\n    sess.run(train_step, feed_dict={output: feed})\\n\\nshowImage(optimal.eval())\\nprint(optimal.eval())\\nprint(W.eval())\\nprint(b.eval())'"
      ]
     },
     "execution_count": 14,
     "metadata": {},
     "output_type": "execute_result"
    }
   ],
   "source": [
    "# Backprop to find Optimal Input\n",
    "\"\"\"\n",
    "# Optimal Input variable (Only one item, unlike unknown above)\n",
    "optimal = tf.Variable(tf.zeros([1, 784]))\n",
    "# Predicted Output\n",
    "predicted = tf.nn.softmax(tf.matmul(optimal, W) + b)\n",
    "# Output to recreate\n",
    "output = tf.placeholder(tf.float32, [None, 10])\n",
    "\n",
    "# Training functions\n",
    "loss = tf.reduce_mean(-tf.reduce_sum(output * tf.log(predicted), reduction_indices = [1]))\n",
    "train_step = tf.train.ProximalGradientDescentOptimizer(0.5).minimize(loss, var_list = [optimal])\n",
    "\n",
    "# Initialize variables\n",
    "sess.run(tf.initialize_all_variables())\n",
    "\n",
    "# Train over data\n",
    "for i in range(1000):\n",
    "    # Create feed dict of same training value\n",
    "    feed = np.array([mnist.train.labels[24601] for i in range(100)])\n",
    "    sess.run(train_step, feed_dict={output: feed})\n",
    "\n",
    "showImage(optimal.eval())\n",
    "print(optimal.eval())\n",
    "print(W.eval())\n",
    "print(b.eval())\"\"\""
   ]
  },
  {
   "cell_type": "code",
   "execution_count": null,
   "metadata": {
    "collapsed": true
   },
   "outputs": [],
   "source": []
  }
 ],
 "metadata": {
  "kernelspec": {
   "display_name": "Python 2",
   "language": "python",
   "name": "python2"
  },
  "language_info": {
   "codemirror_mode": {
    "name": "ipython",
    "version": 2
   },
   "file_extension": ".py",
   "mimetype": "text/x-python",
   "name": "python",
   "nbconvert_exporter": "python",
   "pygments_lexer": "ipython2",
   "version": "2.7.12"
  }
 },
 "nbformat": 4,
 "nbformat_minor": 0
}

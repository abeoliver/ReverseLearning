{
 "cells": [
  {
   "cell_type": "code",
   "execution_count": 1,
   "metadata": {
    "collapsed": true
   },
   "outputs": [],
   "source": [
    "# Neural Network Template for ReverseLearning with Input Backprop\n",
    "# By Abraham Oliver, 2016"
   ]
  },
  {
   "cell_type": "code",
   "execution_count": 2,
   "metadata": {
    "collapsed": true
   },
   "outputs": [],
   "source": [
    "import tensorflow as tf\n",
    "import numpy as np\n",
    "\n",
    "# Import python3's print as a function\n",
    "from __future__ import print_function"
   ]
  },
  {
   "cell_type": "code",
   "execution_count": 27,
   "metadata": {
    "collapsed": true
   },
   "outputs": [],
   "source": [
    "# Import data and prepare for use\n",
    "from random import randint, random\n",
    "def newSet(size, inputs = 5):\n",
    "    \"\"\"EXAMPLE\"\"\"\n",
    "    data = []\n",
    "    labels = []\n",
    "    for s in range(size):\n",
    "        newInputs = [random() * randint(-100, 100) for i in range(inputs)]\n",
    "        data.append(newInputs)\n",
    "        labels.append([sum(newInputs)])\n",
    "    return (data, labels)"
   ]
  },
  {
   "cell_type": "code",
   "execution_count": 28,
   "metadata": {
    "collapsed": false
   },
   "outputs": [
    {
     "name": "stderr",
     "output_type": "stream",
     "text": [
      "Exception AssertionError: AssertionError(\"Nesting violated for default stack of <type 'weakref'> objects\",) in <bound method InteractiveSession.__del__ of <tensorflow.python.client.session.InteractiveSession object at 0x7f25459c8d50>> ignored\n"
     ]
    }
   ],
   "source": [
    "# Start an interactive session\n",
    "sess = tf.InteractiveSession()"
   ]
  },
  {
   "cell_type": "code",
   "execution_count": 29,
   "metadata": {
    "collapsed": true
   },
   "outputs": [],
   "source": [
    "# PARAMATERS\n",
    "INPUT_SIZE = 5\n",
    "OUTPUT_SIZE = 1\n",
    "\n",
    "LEARN_RATE = .01\n",
    "EPOCHS = 2001\n",
    "BATCH_SIZE = 200\n",
    "\n",
    "DEBUG = True"
   ]
  },
  {
   "cell_type": "code",
   "execution_count": 30,
   "metadata": {
    "collapsed": false
   },
   "outputs": [],
   "source": [
    "# Define Model Parameters\n",
    "\n",
    "# Input\n",
    "x = tf.placeholder(tf.float32, [None, INPUT_SIZE])\n",
    "# Weights\n",
    "w = [tf.Variable(tf.zeros([5, 3])), tf.Variable(tf.zeros([3, 1]))]\n",
    "# Biases\n",
    "b = [tf.Variable(tf.ones([3])), tf.Variable(tf.ones([1]))]\n",
    "# Ouput\n",
    "y = tf.matmul(tf.matmul(x, w[0]) + b[0], w[1]) + b[1]\n",
    "# Label\n",
    "y_ = tf.placeholder(tf.float32, [None, OUTPUT_SIZE])\n",
    "\n",
    "# Loss function\n",
    "loss = tf.pow(tf.reduce_mean(y_ - y), 2)\n",
    "train_step = tf.train.ProximalGradientDescentOptimizer(LEARN_RATE).minimize(loss)"
   ]
  },
  {
   "cell_type": "code",
   "execution_count": 31,
   "metadata": {
    "collapsed": false
   },
   "outputs": [
    {
     "name": "stdout",
     "output_type": "stream",
     "text": [
      "Weights :: \n",
      "[array([[ 0.,  0.,  0.],\n",
      "       [ 0.,  0.,  0.],\n",
      "       [ 0.,  0.,  0.],\n",
      "       [ 0.,  0.,  0.],\n",
      "       [ 0.,  0.,  0.]], dtype=float32), array([[ 0.],\n",
      "       [ 0.],\n",
      "       [ 0.]], dtype=float32)]\n",
      "Biases :: [array([ 1.,  1.,  1.], dtype=float32), array([ 1.], dtype=float32)]\n",
      "Loss :: 8.70308017731\n",
      "\n",
      "Weights :: \n",
      "[array([[-0.45127001, -0.45127001, -0.45127001],\n",
      "       [-0.45126987, -0.45126987, -0.45126987],\n",
      "       [-0.45126995, -0.45126995, -0.45126995],\n",
      "       [-0.45127004, -0.45127004, -0.45127004],\n",
      "       [-0.45126992, -0.45126992, -0.45126992]], dtype=float32), array([[-0.7386561],\n",
      "       [-0.7386561],\n",
      "       [-0.7386561]], dtype=float32)]\n",
      "Biases :: [array([ 0.39423454,  0.39423454,  0.39423454], dtype=float32), array([ 0.87360954], dtype=float32)]\n",
      "Loss :: 8.63921407794e-16\n",
      "\n"
     ]
    }
   ],
   "source": [
    "# Train model\n",
    "\n",
    "# Initialize variables\n",
    "sess.run(tf.initialize_all_variables())\n",
    "\n",
    "# Train normal model\n",
    "for i in range(EPOCHS):\n",
    "    batch_inps, batch_outs = newSet(BATCH_SIZE)\n",
    "    if i % 2000 == 0 and DEBUG:\n",
    "        print(\"Weights :: \\n{0}\".format([i.eval() for i in w]))\n",
    "        print(\"Biases :: {0}\".format([i.eval() for i in b]))\n",
    "        print(\"Loss :: {0}\\n\".format(loss.eval(feed_dict={x: batch_inps, y_: batch_outs})))\n",
    "    sess.run(train_step, feed_dict={x: batch_inps, y_: batch_outs})"
   ]
  },
  {
   "cell_type": "code",
   "execution_count": 32,
   "metadata": {
    "collapsed": false
   },
   "outputs": [
    {
     "name": "stdout",
     "output_type": "stream",
     "text": [
      "1 + 1 + 1 + 1 + 1 = 5.0\n",
      "10 + 10 + 10 + 10 + 10 = 50.0\n"
     ]
    }
   ],
   "source": [
    "def compute(INPUT):\n",
    "    return round(y.eval(feed_dict={x: INPUT})[0])\n",
    "\n",
    "print(\"1 + 1 + 1 + 1 + 1 = {0}\".format(compute([[1, 1, 1, 1, 1]])))\n",
    "print(\"10 + 10 + 10 + 10 + 10 = {0}\".format(compute([[10, 10, 10, 10, 10]])))"
   ]
  },
  {
   "cell_type": "code",
   "execution_count": null,
   "metadata": {
    "collapsed": true
   },
   "outputs": [],
   "source": []
  }
 ],
 "metadata": {
  "kernelspec": {
   "display_name": "Python 2",
   "language": "python",
   "name": "python2"
  },
  "language_info": {
   "codemirror_mode": {
    "name": "ipython",
    "version": 2
   },
   "file_extension": ".py",
   "mimetype": "text/x-python",
   "name": "python",
   "nbconvert_exporter": "python",
   "pygments_lexer": "ipython2",
   "version": "2.7.12"
  }
 },
 "nbformat": 4,
 "nbformat_minor": 1
}

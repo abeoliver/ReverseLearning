{
 "cells": [
  {
   "cell_type": "code",
   "execution_count": 1,
   "metadata": {
    "collapsed": true
   },
   "outputs": [],
   "source": [
    "# Neural Network Template for ReverseLearning with Input Backprop\n",
    "# By Abraham Oliver, 2016"
   ]
  },
  {
   "cell_type": "code",
   "execution_count": 2,
   "metadata": {
    "collapsed": false
   },
   "outputs": [],
   "source": [
    "import tensorflow as tf\n",
    "import numpy as np\n",
    "\n",
    "# Import python3's print as a function\n",
    "from __future__ import print_function"
   ]
  },
  {
   "cell_type": "code",
   "execution_count": 3,
   "metadata": {
    "collapsed": true
   },
   "outputs": [],
   "source": [
    "\"\"\"\n",
    "Import data and prepare for use\n",
    "\n",
    "ARGUMENTS:\n",
    "    size - int - number of data in set\n",
    "\n",
    "RETURN:\n",
    "    ([input1, input2, input3, ...], [output_label1, output_label2, output_label3, ...])\n",
    "    where input(n) is in form [value1, value2, value3, ...]\n",
    "    and output_label(n) is in form [output_node1, output_node2, output_node3, ...]\n",
    "    \n",
    "NOTES:\n",
    "    - DO NOT CHANGE NAME\n",
    "    - Random import can be removed if not used\n",
    "\"\"\"\n",
    "from random import randint, random\n",
    "def newSet(size):\n",
    "    \"\"\"EXAMPLE\"\"\"\n",
    "    data = []\n",
    "    labels = []\n",
    "    for s in range(size):\n",
    "        newInputs = [random() * randint(-10, 10) for i in range(3)]\n",
    "        data.append(newInputs)\n",
    "        labels.append([sum(newInputs)])\n",
    "    return (data, labels)"
   ]
  },
  {
   "cell_type": "code",
   "execution_count": 4,
   "metadata": {
    "collapsed": false
   },
   "outputs": [],
   "source": [
    "# Start an interactive session\n",
    "sess = tf.InteractiveSession()"
   ]
  },
  {
   "cell_type": "code",
   "execution_count": 5,
   "metadata": {
    "collapsed": true
   },
   "outputs": [],
   "source": [
    "# PARAMETERS (DESIGN AT WILL)\n",
    "\n",
    "# Number of neurons in each layer where LAYERS[0] is the input and LAYERS[-1] is the output\n",
    "LAYERS = [3, 1]\n",
    "\n",
    "# HYPERPARAMETERS\n",
    "LEARN_RATE = .01\n",
    "EPOCHS = 4000\n",
    "BATCH_SIZE = 200\n",
    "\n",
    "# To change LOSS, go to cell 6\n",
    "# To change OPTIMIZER, go to cell 6\n",
    "\n",
    "# INPUT BACKPROP\n",
    "IB_EPOCHS = 400\n",
    "IB_LEARN_RATE = .01\n",
    "TARGET = [10.0]\n",
    "\n",
    "# To change LOSS for input backprop, go to cell 12\n",
    "# To change OPTIMIZER for input backprop, go to cell 12\n",
    "\n",
    "# Optional Input for prediction checking\n",
    "EXAMPLE = []\n",
    "\n",
    "# SETTINGS\n",
    "DEBUG = False\n",
    "DEBUG_INTERVAL = 2000"
   ]
  },
  {
   "cell_type": "code",
   "execution_count": 6,
   "metadata": {
    "collapsed": false
   },
   "outputs": [],
   "source": [
    "# Define Model Parameters (CUSTOMIZATION NOT NEEDED)\n",
    "\n",
    "# Input\n",
    "x = tf.placeholder(tf.float32, [None, LAYERS[0]], name=\"x\")\n",
    "# Weights\n",
    "w = [tf.Variable(tf.zeros([LAYERS[n], LAYERS[n + 1]]), name=\"w{0}\".format(n)) for n in range(len(LAYERS) - 1)]\n",
    "# Biases\n",
    "b = [tf.Variable(tf.ones([LAYERS[n + 1]]), name=\"b{0}\".format(n)) for n in range(len(LAYERS) - 1)]\n",
    "# Output\n",
    "def calc(inp, n = 0):\n",
    "    if n == len(LAYERS) - 2:\n",
    "        return tf.matmul(inp, w[n]) + b[n]\n",
    "    return calc(tf.matmul(inp, w[n]) + b[n], n + 1)\n",
    "y = calc(x)\n",
    "# Label\n",
    "y_ = tf.placeholder(tf.float32, [None, LAYERS[-1]], name=\"y_\")\n",
    "\n",
    "# Loss function\n",
    "loss = tf.reduce_mean(tf.pow(y_ - y, 2))\n",
    "# Training step\n",
    "train_step = tf.train.ProximalGradientDescentOptimizer(LEARN_RATE).minimize(loss)"
   ]
  },
  {
   "cell_type": "code",
   "execution_count": 7,
   "metadata": {
    "collapsed": false
   },
   "outputs": [
    {
     "name": "stdout",
     "output_type": "stream",
     "text": [
      "TRAINING *  *  *  *  *  *  *  *  *  * \n",
      "TRAINING COMPLETE\n"
     ]
    }
   ],
   "source": [
    "# Train model (CUSTOMIZATION NOT NEEDED)\n",
    "\n",
    "# Initialize variables\n",
    "sess.run(tf.initialize_all_variables())\n",
    "\n",
    "# Status bar\n",
    "STATUS_INTERVAL = EPOCHS / 10\n",
    "\n",
    "# Train normal model\n",
    "print(\"TRAINING\", end=\"\")\n",
    "for i in range(EPOCHS):\n",
    "    # Get data\n",
    "    batch_inps, batch_outs = newSet(BATCH_SIZE)\n",
    "    \n",
    "    # Debug printing\n",
    "    if i % DEBUG_INTERVAL == 0 and DEBUG:\n",
    "        print(\"Weights ::\")\n",
    "        for i in w:\n",
    "            print(i.eval())\n",
    "        print(\"Biases ::\")\n",
    "        for i in b:\n",
    "            print(i.eval())\n",
    "        print(\"Loss :: {0}\\n\\n\".format(loss.eval(feed_dict={x: batch_inps, y_: batch_outs})))\n",
    "        \n",
    "    # Run train step\n",
    "    sess.run(train_step, feed_dict={x: batch_inps, y_: batch_outs})\n",
    "    \n",
    "    # Print status bar\n",
    "    if i % STATUS_INTERVAL == 0 and not DEBUG: print(\" * \", end=\"\")\n",
    "print(\"\\nTRAINING COMPLETE\")"
   ]
  },
  {
   "cell_type": "code",
   "execution_count": 8,
   "metadata": {
    "collapsed": false
   },
   "outputs": [],
   "source": [
    "# Use trained network\n",
    "def predict(INPUT):\n",
    "    \"\"\"\n",
    "    Get network prediction\n",
    "    \n",
    "    ARGUMENTS\n",
    "        INPUT - input vector. FORM: [[x0, x1, x2, ..., x(n-1)]] for n inputs\n",
    "        full - bool - Return full vector output if true and only argmax if false\n",
    "        \n",
    "    EDIT LINE 2 TO CUSTOMIZE PREDICTOR\n",
    "    \"\"\"\n",
    "    return calc(INPUT).eval()\n",
    "\n",
    "if EXAMPLE != []:\n",
    "    print(\"EXAMPLE :: {0} => {1}\".format(EXAMPLE, predict(EXAMPLE)))"
   ]
  },
  {
   "cell_type": "code",
   "execution_count": 9,
   "metadata": {
    "collapsed": false
   },
   "outputs": [],
   "source": [
    "# Save variables\n",
    "saved_weights = [i.eval() for i in w]\n",
    "saved_biases = [i.eval() for i in b]\n",
    "sess.close()"
   ]
  },
  {
   "cell_type": "code",
   "execution_count": 10,
   "metadata": {
    "collapsed": false
   },
   "outputs": [],
   "source": [
    "# Start new session\n",
    "sess = tf.InteractiveSession()"
   ]
  },
  {
   "cell_type": "code",
   "execution_count": 11,
   "metadata": {
    "collapsed": false
   },
   "outputs": [
    {
     "name": "stdout",
     "output_type": "stream",
     "text": [
      "OPTIMAL INPUT       :: [[ 3.33333135  3.33333135  3.33333135]]\n",
      "CALCULATED OUT      :: [[ 9.99999428]]\n",
      "TARGET OUT          :: [10.0]\n",
      "TARGET vs CALC LOSS :: 3.27418092638e-11\n"
     ]
    }
   ],
   "source": [
    "# Input\n",
    "optimal = tf.Variable(tf.zeros([1, LAYERS[0]]))\n",
    "# Input Weights\n",
    "w = [tf.constant(i) for i in saved_weights]\n",
    "# Input Biases\n",
    "b = [tf.constant(i) for i in saved_biases]\n",
    "# Output\n",
    "out = calc(optimal)\n",
    "# Label\n",
    "lbl = tf.constant(TARGET)\n",
    "\n",
    "# Training with quadratic cost and gradient descent with learning rate .01\n",
    "loss = tf.pow(tf.reduce_mean(lbl - out), 2)\n",
    "train_step = tf.train.ProximalGradientDescentOptimizer(LEARN_RATE).minimize(loss)\n",
    "\n",
    "# Initialize variables\n",
    "sess.run(tf.initialize_all_variables())\n",
    "\n",
    "# Train to find three inputs\n",
    "for i in range(IB_EPOCHS):\n",
    "    sess.run(train_step)\n",
    "\n",
    "print(\"OPTIMAL INPUT       :: {0}\".format(optimal.eval()))\n",
    "print(\"CALCULATED OUT      :: {0}\".format(calc(optimal.eval()).eval()))\n",
    "print(\"TARGET OUT          :: {0}\".format(TARGET))\n",
    "print(\"TARGET vs CALC LOSS :: {0}\".format(loss.eval()))"
   ]
  },
  {
   "cell_type": "code",
   "execution_count": null,
   "metadata": {
    "collapsed": true
   },
   "outputs": [],
   "source": []
  }
 ],
 "metadata": {
  "kernelspec": {
   "display_name": "Python 2",
   "language": "python",
   "name": "python2"
  },
  "language_info": {
   "codemirror_mode": {
    "name": "ipython",
    "version": 2
   },
   "file_extension": ".py",
   "mimetype": "text/x-python",
   "name": "python",
   "nbconvert_exporter": "python",
   "pygments_lexer": "ipython2",
   "version": "2.7.6"
  }
 },
 "nbformat": 4,
 "nbformat_minor": 0
}

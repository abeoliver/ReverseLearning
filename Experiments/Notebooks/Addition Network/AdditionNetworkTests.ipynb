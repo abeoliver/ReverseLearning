{
 "cells": [
  {
   "cell_type": "code",
   "execution_count": 1,
   "metadata": {
    "collapsed": true
   },
   "outputs": [],
   "source": [
    "# Small, 2-Layer Network adding three numbers\n",
    "# Abraham Oliver, 2016\n",
    "# ReverseLearning"
   ]
  },
  {
   "cell_type": "code",
   "execution_count": 2,
   "metadata": {
    "collapsed": false
   },
   "outputs": [],
   "source": [
    "# Imports\n",
    "import tensorflow as tf\n",
    "import numpy as np\n",
    "from random import random, randint, uniform\n",
    "from math import sin\n",
    "from time import time\n",
    "\n",
    "# Import python3's print as a function\n",
    "from __future__ import print_function\n",
    "\n",
    "# Numpy print options\n",
    "np.set_printoptions(precision = 3, suppress = True)"
   ]
  },
  {
   "cell_type": "code",
   "execution_count": 3,
   "metadata": {
    "collapsed": true
   },
   "outputs": [],
   "source": [
    "# Prepare Data collection\n",
    "import openpyxl\n",
    "\n",
    "# Workbook to write to\n",
    "wb = openpyxl.Workbook()\n",
    "wb.title = \"Addition Network Data\"\n",
    "data = wb.create_sheet(\"Data\")\n",
    "\n",
    "data['A1'] = \"DATA\"\n",
    "data['A2'] = \"Inputs\"\n",
    "data['B2'] = \"Epochs\"\n",
    "data['C2'] = \"LRate\"\n",
    "data['E2'] = \"Loss\"\n",
    "data['F2'] = \"Time\"\n",
    "\n",
    "# Number of tests to run\n",
    "tests = 3000"
   ]
  },
  {
   "cell_type": "code",
   "execution_count": null,
   "metadata": {
    "collapsed": false
   },
   "outputs": [],
   "source": [
    "# Objective: Get three inputs that sum to 'VAL'\n",
    "VAL = 100.0\n",
    "\n",
    "def runTrial():    \n",
    "    # Start new session for input backprop\n",
    "    sess = tf.InteractiveSession()\n",
    "    \n",
    "    time0 = time()\n",
    "    # Input\n",
    "    optimal = tf.Variable(tf.zeros([1, INPUTS]))\n",
    "    # Input Weights\n",
    "    w1 = tf.ones([INPUTS, 1])\n",
    "    # Input Biases\n",
    "    b1 = tf.zeros([1])\n",
    "    # Output\n",
    "    out = tf.matmul(optimal, w1) + b1\n",
    "    # Label\n",
    "    lbl = tf.constant([VAL])\n",
    "\n",
    "    # Training with quadratic cost and gradient descent with learning rate .01\n",
    "    loss = tf.pow(tf.reduce_mean(lbl - out), 2)\n",
    "    train_step = tf.train.ProximalGradientDescentOptimizer(LEARN_RATE).minimize(loss)\n",
    "\n",
    "    # Initialize variables\n",
    "    sess.run(tf.initialize_all_variables())\n",
    "\n",
    "    # Train to find three inputs\n",
    "    for i in range(EPOCHS):\n",
    "        sess.run(train_step)\n",
    "\n",
    "    #print(\"INPUTS :: {0}\".format(optimal.eval()))\n",
    "    #print(\"LOSS   :: {0}\".format(loss.eval()))\n",
    "    time1 = time()\n",
    "    return (loss.eval(), time1 - time0)"
   ]
  },
  {
   "cell_type": "code",
   "execution_count": null,
   "metadata": {
    "collapsed": false
   },
   "outputs": [
    {
     "name": "stdout",
     "output_type": "stream",
     "text": [
      "1 for 2\n",
      "2 for 6\n",
      "3 for 8\n",
      "4 for 15\n",
      "5 for 17\n",
      "6 for 27\n",
      "7 for 28\n"
     ]
    }
   ],
   "source": [
    "# Create random data and get results\n",
    "total = 0\n",
    "index = 3\n",
    "while True:\n",
    "    # Data\n",
    "    EPOCHS = randint(100, 2000)\n",
    "    INPUTS = randint(2, 10)\n",
    "    LEARN_RATE = uniform(.0001, 1.0)\n",
    "    LOSS, TIME = runTrial()\n",
    "    \n",
    "    if np.isnan(LOSS):\n",
    "        total += 1\n",
    "        if (total + index - 3) % 100 == 0:\n",
    "            print(\"{0} for {1}\".format(index - 3,total + index - 3))\n",
    "        continue\n",
    "    else:\n",
    "        # Write data\n",
    "        data['A{0}'.format(index)] = str(INPUTS)\n",
    "        data['B{0}'.format(index)] = str(EPOCHS)\n",
    "        data['C{0}'.format(index)] = str(LEARN_RATE)\n",
    "        data['E{0}'.format(index)] = str(LOSS)\n",
    "        data['F{0}'.format(index)] = str(TIME)\n",
    "        index += 1\n",
    "    \n",
    "        if index == tests + 3: break\n",
    "        if index % 10: wb.save(\"AdditonNetworkData.xlsx\") \n",
    "        print(\"{0} for {1}\".format(index - 3,total + index - 3))\n",
    "    \n",
    "# Save data to excel sheet\n",
    "wb.save(\"AdditonNetworkData.xlsx\")\n",
    "total = total + index - 3"
   ]
  },
  {
   "cell_type": "code",
   "execution_count": null,
   "metadata": {
    "collapsed": true
   },
   "outputs": [],
   "source": [
    ""
   ]
  }
 ],
 "metadata": {
  "kernelspec": {
   "display_name": "Python 2",
   "language": "python",
   "name": "python2"
  },
  "language_info": {
   "codemirror_mode": {
    "name": "ipython",
    "version": 2.0
   },
   "file_extension": ".py",
   "mimetype": "text/x-python",
   "name": "python",
   "nbconvert_exporter": "python",
   "pygments_lexer": "ipython2",
   "version": "2.7.6"
  }
 },
 "nbformat": 4,
 "nbformat_minor": 0
}
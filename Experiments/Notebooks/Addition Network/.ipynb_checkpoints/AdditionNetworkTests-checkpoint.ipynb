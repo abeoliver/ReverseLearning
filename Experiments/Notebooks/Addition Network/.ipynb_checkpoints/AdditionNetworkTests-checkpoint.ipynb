{
 "cells": [
  {
   "cell_type": "code",
   "execution_count": 1,
   "metadata": {
    "collapsed": true
   },
   "outputs": [],
   "source": [
    "# Small, 2-Layer Network adding three numbers\n",
    "# Abraham Oliver, 2016\n",
    "# ReverseLearning"
   ]
  },
  {
   "cell_type": "code",
   "execution_count": 2,
   "metadata": {
    "collapsed": false
   },
   "outputs": [],
   "source": [
    "# Imports\n",
    "import tensorflow as tf\n",
    "import numpy as np\n",
    "from random import random, randint, uniform\n",
    "from math import sin\n",
    "from Network import Network\n",
    "from time import time\n",
    "\n",
    "# Numpy print options\n",
    "np.set_printoptions(precision = 3, suppress = True)"
   ]
  },
  {
   "cell_type": "code",
   "execution_count": 3,
   "metadata": {
    "collapsed": true
   },
   "outputs": [],
   "source": [
    "# Prepare Data collection\n",
    "import openpyxl\n",
    "\n",
    "# Workbook to write to\n",
    "wb = openpyxl.Workbook()\n",
    "wb.title = \"Addition Network Data\"\n",
    "data = wb.create_sheet(\"Data\")\n",
    "\n",
    "data['A1'] = \"DATA\"\n",
    "data['A2'] = \"Inputs\"\n",
    "data['B2'] = \"Epochs\"\n",
    "data['C2'] = \"LRate\"\n",
    "data['E2'] = \"Loss\"\n",
    "data['F2'] = \"Time\"\n",
    "\n",
    "# Number of tests to run\n",
    "tests = 3000"
   ]
  },
  {
   "cell_type": "code",
   "execution_count": 4,
   "metadata": {
    "collapsed": false
   },
   "outputs": [],
   "source": [
    "a = randint(1,5)\n",
    "def newSet(size, ins):\n",
    "    \"\"\"EXAMPLE\"\"\"\n",
    "    data = []\n",
    "    labels = []\n",
    "    for s in range(size):\n",
    "        newInputs = [random() * randint(-100, 100) for i in range(ins)]\n",
    "        data.append(newInputs)\n",
    "        labels.append([sum(newInputs)])\n",
    "    return (data, labels)"
   ]
  },
  {
   "cell_type": "code",
   "execution_count": 5,
   "metadata": {
    "collapsed": false
   },
   "outputs": [
    {
     "name": "stdout",
     "output_type": "stream",
     "text": [
      "TRAINING  *   *   *   *   *   *   *   *   *   *   *  \n",
      "TRAINING COMPLETE\n",
      "3.54984e-05\n",
      "2\n",
      "413\n",
      "8266\n",
      "0.000311035164096\n"
     ]
    }
   ],
   "source": [
    "for i in range(3, test):\n",
    "    a = randint(1,5)\n",
    "    b = randint(100, 500)\n",
    "    c = randint(1000, 10000)\n",
    "    d = uniform(.001, .0001)\n",
    "    n = Network([a, 1], activation = \"none\", shaping = \"none\")\n",
    "    loss = n.train(newSet(b, a), epochs = c, learn_rate = d, batch_size = 0, debug = False, debug_interval = 5000)\n",
    "    \n",
    "    # Save data\n",
    "    data['A{0}'.format(i)] = a\n",
    "\n",
    "\n"
   ]
  },
  {
   "cell_type": "code",
   "execution_count": 6,
   "metadata": {
    "collapsed": false
   },
   "outputs": [
    {
     "name": "stdout",
     "output_type": "stream",
     "text": [
      "[array([[ 1.],\n",
      "       [ 1.]], dtype=float32)]\n",
      "[array([[ 0.006]], dtype=float32)]\n"
     ]
    }
   ],
   "source": [
    "print n.w\n",
    "print n.b"
   ]
  }
 ],
 "metadata": {
  "kernelspec": {
   "display_name": "Python 2",
   "language": "python",
   "name": "python2"
  },
  "language_info": {
   "codemirror_mode": {
    "name": "ipython",
    "version": 2
   },
   "file_extension": ".py",
   "mimetype": "text/x-python",
   "name": "python",
   "nbconvert_exporter": "python",
   "pygments_lexer": "ipython2",
   "version": "2.7.6"
  }
 },
 "nbformat": 4,
 "nbformat_minor": 0
}

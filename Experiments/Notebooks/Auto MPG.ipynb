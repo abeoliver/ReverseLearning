{
 "cells": [
  {
   "cell_type": "code",
   "execution_count": 1,
   "metadata": {
    "collapsed": true
   },
   "outputs": [],
   "source": [
    "# Auto MPG Dataset\n",
    "# ReverseLearning, 2017"
   ]
  },
  {
   "cell_type": "code",
   "execution_count": 2,
   "metadata": {
    "collapsed": false
   },
   "outputs": [],
   "source": [
    "from csv import reader as CSV\n",
    "import imp as IMPORT\n",
    "import tensorflow as tf\n",
    "# Import the algorithm and network files\n",
    "NetworkModule = IMPORT.load_source(\"Network\", \"../../Algorithm/Network.py\")\n",
    "Network = NetworkModule.Network"
   ]
  },
  {
   "cell_type": "code",
   "execution_count": 3,
   "metadata": {
    "collapsed": false
   },
   "outputs": [],
   "source": [
    "# Prepare Data\n",
    "data = {\"mpg\": [], \"cylinders\": [], \"displacement\": [], \"horsepower\": [], \"weight\": [], \n",
    "        \"acceleration\": [], \"model_year\": [], \"origin\": [], \"car_name\": []}\n",
    "with open(\"../../DataSets/auto-mpg.tab\") as tsv:\n",
    "    reader = CSV(tsv, dialect=\"excel-tab\")\n",
    "    for line in reader:\n",
    "        if reader.line_num not in [1, 2, 3] and \"?\" not in line:\n",
    "            data[\"mpg\"].append(line[0])\n",
    "            data[\"cylinders\"].append(line[1])\n",
    "            data[\"displacement\"].append(line[2])\n",
    "            data[\"horsepower\"].append(line[3])\n",
    "            data[\"weight\"].append(line[4])\n",
    "            data[\"acceleration\"].append(line[5])\n",
    "            data[\"model_year\"].append(line[6])\n",
    "            data[\"origin\"].append(line[7])\n",
    "            data[\"car_name\"].append(line[8])"
   ]
  },
  {
   "cell_type": "code",
   "execution_count": 4,
   "metadata": {
    "collapsed": false
   },
   "outputs": [],
   "source": [
    "# Data in training format\n",
    "xs = []\n",
    "ys = []\n",
    "for i in range(len(data[\"mpg\"])):\n",
    "    # Inputs\n",
    "    t = [float(data[\"cylinders\"][i]), float(data[\"displacement\"][i]), float(data[\"horsepower\"][i]), \n",
    "         float(data[\"weight\"][i]), float(data[\"acceleration\"][i]), float(data[\"model_year\"][i])]\n",
    "    xs.append(t)\n",
    "    # Label\n",
    "    ys.append([float(data[\"mpg\"][i])])\n",
    "# Final set\n",
    "trainingData = [xs, ys]"
   ]
  },
  {
   "cell_type": "code",
   "execution_count": 5,
   "metadata": {
    "collapsed": false
   },
   "outputs": [
    {
     "name": "stdout",
     "output_type": "stream",
     "text": [
      "TRAINING  *   *   *   *   *   *   *   *   *   *  \n",
      "TRAINING COMPLETE\n",
      "[<tensorflow.python.ops.variables.Variable object at 0x7f3238a01510>]\n",
      "[array([[ 1.],\n",
      "       [ 1.],\n",
      "       [ 1.],\n",
      "       [ 1.],\n",
      "       [ 1.],\n",
      "       [ 1.]], dtype=float32)]\n",
      "[<tensorflow.python.ops.variables.Variable object at 0x7f3238a01410>]\n",
      "[array([[ 0.]], dtype=float32)]\n"
     ]
    }
   ],
   "source": [
    "# Train network\n",
    "n = Network([6, 1])\n",
    "n.initWeights(mode = \"ones\")\n",
    "n.initBiases(mode=\"zeros\")\n",
    "def loss(y, y_): return tf.reduce_mean(tf.abs(y - y_))\n",
    "n.train(data = trainingData,\n",
    "        epochs = 1000,\n",
    "        learn_rate = .001,\n",
    "        batch_size = 0,\n",
    "        loss_function = \"custom\",\n",
    "        customLoss = loss,\n",
    "        debug = False,\n",
    "        debug_interval = 1)"
   ]
  },
  {
   "cell_type": "code",
   "execution_count": 6,
   "metadata": {
    "collapsed": false
   },
   "outputs": [
    {
     "name": "stdout",
     "output_type": "stream",
     "text": [
      "[[8.0, 307.0, 130.0, 3504.0, 12.0, 70.0], [18.0]]\n"
     ]
    },
    {
     "data": {
      "text/plain": [
       "array([[ 4031.]], dtype=float32)"
      ]
     },
     "execution_count": 6,
     "metadata": {},
     "output_type": "execute_result"
    }
   ],
   "source": [
    "test = [trainingData[0][0], trainingData[1][0]]\n",
    "print test\n",
    "n.feed(test[0])"
   ]
  },
  {
   "cell_type": "code",
   "execution_count": null,
   "metadata": {
    "collapsed": true
   },
   "outputs": [],
   "source": []
  }
 ],
 "metadata": {
  "kernelspec": {
   "display_name": "Python 2",
   "language": "python",
   "name": "python2"
  },
  "language_info": {
   "codemirror_mode": {
    "name": "ipython",
    "version": 2
   },
   "file_extension": ".py",
   "mimetype": "text/x-python",
   "name": "python",
   "nbconvert_exporter": "python",
   "pygments_lexer": "ipython2",
   "version": "2.7.6"
  }
 },
 "nbformat": 4,
 "nbformat_minor": 1
}
